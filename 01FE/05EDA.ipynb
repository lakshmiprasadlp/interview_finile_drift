{
 "cells": [
  {
   "cell_type": "markdown",
   "id": "dcb548dc",
   "metadata": {},
   "source": [
    "# pandas profiling\n",
    "# D Tale\n",
    "# autovise"
   ]
  },
  {
   "cell_type": "markdown",
   "id": "25c3b7cd",
   "metadata": {},
   "source": []
  }
 ],
 "metadata": {
  "language_info": {
   "name": "python"
  }
 },
 "nbformat": 4,
 "nbformat_minor": 5
}
